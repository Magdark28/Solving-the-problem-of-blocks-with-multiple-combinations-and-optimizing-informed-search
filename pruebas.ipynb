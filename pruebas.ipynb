{
 "cells": [
  {
   "cell_type": "markdown",
   "metadata": {},
   "source": [
    "<table>\n",
    "    <tr>\n",
    "        <td><img src=\"./Macc.png\" width=\"400\"/></td>\n",
    "        <td>&nbsp;</td>\n",
    "        <td>\n",
    "            <h1 style=\"color:blue;text-align:left\">Inteligencia Artificial</h1></td>\n",
    "        <td>\n",
    "            <table><tr>\n",
    "            <tp><p style=\"font-size:150%;text-align:center\">Notebook</p></tp>\n",
    "            <tp><p style=\"font-size:150%;text-align:center\">Resolución del problema del mundo de los bloques</p></tp>\n",
    "            </tr></table>\n",
    "        </td>\n",
    "    </tr>\n",
    "</table>\n",
    "\n",
    "---"
   ]
  },
  {
   "cell_type": "markdown",
   "metadata": {},
   "source": [
    "## Integrantes\n",
    "Juan Diego Martínez y Laura Valentina Hernández"
   ]
  },
  {
   "cell_type": "markdown",
   "metadata": {},
   "source": [
    "### Librerias de python y del notebook"
   ]
  },
  {
   "cell_type": "code",
   "execution_count": 1,
   "metadata": {},
   "outputs": [],
   "source": [
    "from AmbientesMP import *\n",
    "from busqueda import *\n",
    "from collections import namedtuple\n",
    "from collections import Counter\n",
    "from tiempos import compara_funciones\n",
    "from testSuits import test_suit_heuristicas\n",
    "import operator\n",
    "import seaborn as sns\n",
    "from random import choice\n",
    "import numpy as np\n",
    "import plotly.express as px\n",
    "\n",
    "\n",
    "import pandas as pd"
   ]
  },
  {
   "cell_type": "markdown",
   "metadata": {},
   "source": [
    "## Objetivo <a class=\"anchor\" id=\"inicio\"></a>\n",
    "\n",
    "En este notebook se explicarán las heurísticas desarrolladas para disminuir el tiempo de CPU que le toma a los algoritmos informados resolver el problema del mundo de los bloques y se realizará un compración de los algortimos de búsqueda, tanto informada como a ciegas."
   ]
  },
  {
   "cell_type": "markdown",
   "metadata": {},
   "source": [
    "**Búsqueda a ciegas**"
   ]
  },
  {
   "cell_type": "markdown",
   "metadata": {},
   "source": [
    "Primero vamos a probar la solución de este problema con los algoritmos Primero en anchura, Primero en profundidad y Backtracking.\n",
    "\n",
    "Para este problema se empieza desde n = 3, para que el problema pueda tener coherencia y solución."
   ]
  },
  {
   "cell_type": "code",
   "execution_count": 9,
   "metadata": {},
   "outputs": [],
   "source": [
    "prob = BlockWorld(3)\n",
    "prob2 = BlockWorld(4)\n",
    "prob3 = BlockWorld()\n"
   ]
  },
  {
   "cell_type": "code",
   "execution_count": 10,
   "metadata": {},
   "outputs": [],
   "source": [
    "funs = [anchura,\n",
    "        profundidad,\n",
    "        lambda problema: backtracking(problema, Nodo(problema.estado_inicial, None, None, 0, problema.codigo(problema.estado_inicial)))]\n",
    "args = [[prob],[prob],[prob]]\n",
    "args2 = [[prob2],[prob2],[prob2]]\n",
    "args3 = [[prob3],[prob3],[prob3]]\n",
    "nombres = ['Primero en anchura', \n",
    "           'Primero en profundidad', \n",
    "           'Backtracking']\n",
    "data = compara_funciones(lista_funs=funs, \n",
    "                         lista_args=args, \n",
    "                         lista_nombres=nombres, \n",
    "                         num_it=10)\n",
    "data2 = compara_funciones(lista_funs=funs, \n",
    "                         lista_args=args2, \n",
    "                         lista_nombres=nombres, \n",
    "                         num_it=10)\n"
   ]
  },
  {
   "cell_type": "markdown",
   "metadata": {},
   "source": [
    "Para n=3 obtenemos"
   ]
  },
  {
   "cell_type": "code",
   "execution_count": 11,
   "metadata": {},
   "outputs": [
    {
     "data": {
      "text/html": [
       "<div>\n",
       "<style scoped>\n",
       "    .dataframe tbody tr th:only-of-type {\n",
       "        vertical-align: middle;\n",
       "    }\n",
       "\n",
       "    .dataframe tbody tr th {\n",
       "        vertical-align: top;\n",
       "    }\n",
       "\n",
       "    .dataframe thead tr th {\n",
       "        text-align: left;\n",
       "    }\n",
       "\n",
       "    .dataframe thead tr:last-of-type th {\n",
       "        text-align: right;\n",
       "    }\n",
       "</style>\n",
       "<table border=\"1\" class=\"dataframe\">\n",
       "  <thead>\n",
       "    <tr>\n",
       "      <th></th>\n",
       "      <th colspan=\"2\" halign=\"left\">tiempo_CPU</th>\n",
       "    </tr>\n",
       "    <tr>\n",
       "      <th></th>\n",
       "      <th>mean</th>\n",
       "      <th>std</th>\n",
       "    </tr>\n",
       "    <tr>\n",
       "      <th>Función</th>\n",
       "      <th></th>\n",
       "      <th></th>\n",
       "    </tr>\n",
       "  </thead>\n",
       "  <tbody>\n",
       "    <tr>\n",
       "      <th>Backtracking</th>\n",
       "      <td>0.002824</td>\n",
       "      <td>0.005997</td>\n",
       "    </tr>\n",
       "    <tr>\n",
       "      <th>Primero en anchura</th>\n",
       "      <td>0.013417</td>\n",
       "      <td>0.006752</td>\n",
       "    </tr>\n",
       "    <tr>\n",
       "      <th>Primero en profundidad</th>\n",
       "      <td>0.001861</td>\n",
       "      <td>0.004757</td>\n",
       "    </tr>\n",
       "  </tbody>\n",
       "</table>\n",
       "</div>"
      ],
      "text/plain": [
       "                       tiempo_CPU          \n",
       "                             mean       std\n",
       "Función                                    \n",
       "Backtracking             0.002824  0.005997\n",
       "Primero en anchura       0.013417  0.006752\n",
       "Primero en profundidad   0.001861  0.004757"
      ]
     },
     "execution_count": 11,
     "metadata": {},
     "output_type": "execute_result"
    }
   ],
   "source": [
    "data.groupby('Función').agg({'tiempo_CPU':['mean', 'std']})"
   ]
  },
  {
   "cell_type": "code",
   "execution_count": 12,
   "metadata": {},
   "outputs": [
    {
     "data": {
      "text/plain": [
       "<Axes: xlabel='Función', ylabel='tiempo_CPU'>"
      ]
     },
     "execution_count": 12,
     "metadata": {},
     "output_type": "execute_result"
    },
    {
     "data": {
      "image/png": "[encoded data removed]",
      "text/plain": [
       "<Figure size 900x300 with 1 Axes>"
      ]
     },
     "metadata": {},
     "output_type": "display_data"
    }
   ],
   "source": [
    "fig, ax = plt.subplots(1,1, figsize=(3*len(funs),3), tight_layout=True)\n",
    "sns.boxplot(data=data, x='Función', y='tiempo_CPU')"
   ]
  },
  {
   "cell_type": "markdown",
   "metadata": {},
   "source": [
    "Para n=4 obtenemos"
   ]
  },
  {
   "cell_type": "code",
   "execution_count": 13,
   "metadata": {},
   "outputs": [
    {
     "data": {
      "text/html": [
       "<div>\n",
       "<style scoped>\n",
       "    .dataframe tbody tr th:only-of-type {\n",
       "        vertical-align: middle;\n",
       "    }\n",
       "\n",
       "    .dataframe tbody tr th {\n",
       "        vertical-align: top;\n",
       "    }\n",
       "\n",
       "    .dataframe thead tr th {\n",
       "        text-align: left;\n",
       "    }\n",
       "\n",
       "    .dataframe thead tr:last-of-type th {\n",
       "        text-align: right;\n",
       "    }\n",
       "</style>\n",
       "<table border=\"1\" class=\"dataframe\">\n",
       "  <thead>\n",
       "    <tr>\n",
       "      <th></th>\n",
       "      <th colspan=\"2\" halign=\"left\">tiempo_CPU</th>\n",
       "    </tr>\n",
       "    <tr>\n",
       "      <th></th>\n",
       "      <th>mean</th>\n",
       "      <th>std</th>\n",
       "    </tr>\n",
       "    <tr>\n",
       "      <th>Función</th>\n",
       "      <th></th>\n",
       "      <th></th>\n",
       "    </tr>\n",
       "  </thead>\n",
       "  <tbody>\n",
       "    <tr>\n",
       "      <th>Backtracking</th>\n",
       "      <td>0.001563</td>\n",
       "      <td>0.004943</td>\n",
       "    </tr>\n",
       "    <tr>\n",
       "      <th>Primero en anchura</th>\n",
       "      <td>0.003138</td>\n",
       "      <td>0.005939</td>\n",
       "    </tr>\n",
       "    <tr>\n",
       "      <th>Primero en profundidad</th>\n",
       "      <td>0.117079</td>\n",
       "      <td>0.008176</td>\n",
       "    </tr>\n",
       "  </tbody>\n",
       "</table>\n",
       "</div>"
      ],
      "text/plain": [
       "                       tiempo_CPU          \n",
       "                             mean       std\n",
       "Función                                    \n",
       "Backtracking             0.001563  0.004943\n",
       "Primero en anchura       0.003138  0.005939\n",
       "Primero en profundidad   0.117079  0.008176"
      ]
     },
     "execution_count": 13,
     "metadata": {},
     "output_type": "execute_result"
    }
   ],
   "source": [
    "data2.groupby('Función').agg({'tiempo_CPU':['mean', 'std']})"
   ]
  },
  {
   "cell_type": "code",
   "execution_count": 14,
   "metadata": {},
   "outputs": [
    {
     "data": {
      "text/plain": [
       "<Axes: xlabel='Función', ylabel='tiempo_CPU'>"
      ]
     },
     "execution_count": 14,
     "metadata": {},
     "output_type": "execute_result"
    },
    {
     "data": {
      "image/png": "[encoded data removed]",
      "text/plain": [
       "<Figure size 900x300 with 1 Axes>"
      ]
     },
     "metadata": {},
     "output_type": "display_data"
    }
   ],
   "source": [
    "fig, ax = plt.subplots(1,1, figsize=(3*len(funs),3), tight_layout=True)\n",
    "sns.boxplot(data=data2, x='Función', y='tiempo_CPU')"
   ]
  },
  {
   "cell_type": "markdown",
   "metadata": {},
   "source": [
    "Ahora vamos a evaluar con n = 5."
   ]
  },
  {
   "cell_type": "code",
   "execution_count": 15,
   "metadata": {},
   "outputs": [],
   "source": [
    "#data3 = compara_funciones(lista_funs=funs,  lista_args=args3, lista_nombres=nombres,  num_it=10)"
   ]
  },
  {
   "cell_type": "markdown",
   "metadata": {},
   "source": [
    "Note que al correr esa celda, al igual que con ns mayores, los algoritmos de búsqueda a ciegas se demoran mucho en encontrar la solución. Es decir, hay una maldición de la dimensionalidad con un n>=5. Ahora vamos a intentar solucionar esto defininiendo las heurísticas"
   ]
  },
  {
   "cell_type": "markdown",
   "metadata": {},
   "source": [
    "### Heurísitica 1"
   ]
  },
  {
   "cell_type": "markdown",
   "metadata": {},
   "source": [
    "Para poder implementar la heurística 1 definimos la función encima, la cual para el estado recibido, toma cada bloque y devuelve cuántos bloques están encima de él en formato lista."
   ]
  },
  {
   "cell_type": "code",
   "execution_count": 16,
   "metadata": {},
   "outputs": [],
   "source": [
    "def encima(self,estado:np.matrix):\n",
    "    \n",
    "    l= [] \n",
    "    for i in range(1,self.num_de_blocks+1):\n",
    "        f,c = np.where(estado == i)\n",
    "        f = f[0]\n",
    "        c = c[0]\n",
    "        b = estado[:,c]\n",
    "        b = b[0:f]\n",
    "       \n",
    "        #se cuenta cuántos elementos no cero hay en b,que representa\n",
    "        #cuántos bloques hay encima del bloque actual en esa columna\n",
    "        l.append( np.count_nonzero(b !=0))\n",
    "\n",
    "        \n",
    "    return l              \n",
    "    "
   ]
  },
  {
   "cell_type": "markdown",
   "metadata": {},
   "source": [
    "La heurística 1 consiste en evalúar lo siquiente para cada bloque:\n",
    "  * Si está en la posición correcta\n",
    "  * La distancia que hay entre ese bloque y su posición final\n",
    "  \n",
    "Después de iterar sobre todos los bloques, se llama a la función encima(estado) para determinar la cantidad de bloques que hay encima de cada bloque en el estado actual y final. Luego, se obtiene la diferencia para cada bloque y se añadé al valor final.\n",
    "\n"
   ]
  },
  {
   "cell_type": "code",
   "execution_count": 17,
   "metadata": {},
   "outputs": [],
   "source": [
    "def piezas_y_distancia(self,estado:np.matrix):\n",
    "    \n",
    "    objetivo = self.estado_final\n",
    "    c = 0\n",
    "    l=[]\n",
    "    for a in range(1,self.num_de_blocks+1):\n",
    "            \n",
    "               of,oc = np.where(objetivo == a)\n",
    "               ef,ec =  np.where(estado == a)\n",
    "            \n",
    "               if of.size > 0 and ef.size > 0:\n",
    "                    #se determinan la posición del bloque en el estado actual y en el estado final\n",
    "                     of = int(of[0])\n",
    "                     oc = int(oc[0])\n",
    "                     ef = int(ef[0])\n",
    "                     ec = int(ec[0])\n",
    "                     \n",
    "                     if objetivo[of,oc]!=estado[of,oc]:\n",
    "                        #se obtiene la distancia de la pos actual a la final\n",
    "                        c = c+1+abs(of-ef)+abs(oc-ec)\n",
    "                        \n",
    "                        \n",
    "                              \n",
    "                     else:\n",
    "                        \n",
    "                        if of==estado.shape[0]-1:\n",
    "                            #Si el bloque se encuentra en la última fila(piso) del estado actual y \n",
    "                            #está en la posición correcta, se disminuye el contador .\n",
    "                            w=2.5\n",
    "                            c-=10*w\n",
    "                        \n",
    "                        c-=2\n",
    "     \n",
    "    #Se determina la cantidad de bloques que hay encima del bloque que se está trabjando en cada estado\n",
    "    le = self.encima(estado)\n",
    "    lo = self.encima(objetivo)                \n",
    "    ld = sum(map(abs, map(operator.sub, s1.encima(s1.estado_inicial), s1.encima(s1.estado_final))))\n",
    "    c+= ld\n",
    "                        \n",
    "                        \n",
    "                        \n",
    "    return c\n",
    "    \n",
    "    "
   ]
  },
  {
   "cell_type": "markdown",
   "metadata": {},
   "source": [
    "Se añadieron las funciones a la clase"
   ]
  },
  {
   "cell_type": "code",
   "execution_count": 18,
   "metadata": {},
   "outputs": [],
   "source": [
    "setattr(BlockWorld, 'encima', encima)\n",
    "setattr(BlockWorld, 'heuristica1', piezas_y_distancia)"
   ]
  },
  {
   "cell_type": "markdown",
   "metadata": {},
   "source": [
    "### Heurísitica 2"
   ]
  },
  {
   "cell_type": "markdown",
   "metadata": {},
   "source": [
    "Para poder implementar la heurística 2 definimos las funciones sup y correctas\n"
   ]
  },
  {
   "cell_type": "markdown",
   "metadata": {},
   "source": [
    "La función sup determina en el estado los bloques que se pueden mover, es decir los bloques superiores"
   ]
  },
  {
   "cell_type": "code",
   "execution_count": 19,
   "metadata": {},
   "outputs": [],
   "source": [
    "def sup(self,m):\n",
    "    l =[]\n",
    "    for a in range(1,self.num_de_blocks+1):\n",
    "          of, oc = np.where(m == a)  \n",
    "          if of.size>0 and oc.size>0:\n",
    "            \n",
    "             if of-1==-1:\n",
    "                l.append(int(m[of,oc]))\n",
    "                \n",
    "             if of-1>-1 and m[of-1,oc]==0:\n",
    "                \n",
    "                 l.append(int(m[of,oc]))\n",
    "    return l\n",
    "               "
   ]
  },
  {
   "cell_type": "markdown",
   "metadata": {},
   "source": [
    "La función correctas  a partir de un bloque verifica de abajo hacia arriba cuántos bloques debajo de él son correctos"
   ]
  },
  {
   "cell_type": "code",
   "execution_count": 20,
   "metadata": {},
   "outputs": [],
   "source": [
    "def correctas(self,m,o,f,c):\n",
    "    \n",
    "    k= self.num_de_blocks\n",
    "    n=0\n",
    "    while k>f:\n",
    "        \n",
    "        if m[k-1,c]==o[k-1,c]:\n",
    "            #al bloque que esté en la pos correcta con su inferior también en la pos correcta\n",
    "            #se le da un valor alto para que no se mueva ese bloque\n",
    "            n-=100\n",
    "            k-=1\n",
    "\n",
    "        else:\n",
    "            \n",
    "            #a penas encuentre un bloque mal posicionado deja de verificar\n",
    "            return n,False\n",
    "    return n,True\n",
    "    "
   ]
  },
  {
   "cell_type": "markdown",
   "metadata": {},
   "source": [
    "Se definió la heuristica 2 a continuación"
   ]
  },
  {
   "cell_type": "code",
   "execution_count": 21,
   "metadata": {},
   "outputs": [],
   "source": [
    " def piezas_con_pesos(self, estado:np.matrix):\n",
    "        \n",
    "        \n",
    "        objetivo = self.estado_final\n",
    "        c = 0\n",
    "        \n",
    "        # se itera sobre el número de bloques y no sobre toda la matriz, pues se tienen n*n posiciones de las cuales solo son de\n",
    "        # interes n (en un caso de 10 bloques, hay 90 posiciones que tienen cero y solo 10 tiene bloques)\n",
    "        \n",
    "        l = self.sup(estado)\n",
    "        for a in range(1,self.num_de_blocks+1):\n",
    "            \n",
    "               of,oc = np.where(objetivo == a)\n",
    "               ef,ec =  np.where(estado == a)\n",
    "            \n",
    "               if of.size > 0 and ef.size > 0:\n",
    "                    #se determinan la posición del bloque en el estado actual y en el estado final\n",
    "                     of = int(of[0])\n",
    "                     oc = int(oc[0])\n",
    "                     ef = int(ef[0])\n",
    "                     ec = int(ec[0])\n",
    "                    \n",
    "                     #se suma correctas para que evite mover las piezas que ya están en su posición final\n",
    "                    \n",
    "                     c+= self.correctas(estado,objetivo,of,oc)[0]\n",
    "                        \n",
    "                     #si el bloque y todos sus  inferiores no están en ubicados en la pos final:\n",
    "                    \n",
    "                     if  not self.correctas(estado,objetivo,of,oc)[1]:\n",
    "\n",
    "                       if objetivo[of,oc]!=estado[of,oc]:\n",
    "                           if a in l:\n",
    "                            # si el bloque es superior, se verifica si su pos final está vacía\n",
    "                                    if estado[of,oc] == 0:\n",
    "                                       \n",
    "                                        if of == self.num_de_blocks-1:\n",
    "                                             #se prioriza liberar las posiciones de los bloques libres que van en el suelo\n",
    "                                             c = c-of-5\n",
    "\n",
    "                                        elif estado[of+1,oc]!=0 and estado[of+1,oc]!=a :\n",
    "                                            c = c-of-1\n",
    "                                      \n",
    "                           else:\n",
    "                                # si no es un bloque sup se le suma uno a su posición y se duplica este valor\n",
    "                                # para sumarlo a c, esto con el fin de darle más peso a los bloques que esten mal puestos\n",
    "                                #de abajo hacia arriba,\n",
    "                               \n",
    "                                c+= (ef+1)*2\n",
    "                                      \n",
    "\n",
    "                               # sin importar si el bloque es libre o no, se le suma uno si está en la col incorrecta\n",
    "                               #y otro más si está en la fila incorrecta\n",
    "                           if ef != of and ec != oc :\n",
    "                                        c = c + 2\n",
    "\n",
    "                           else:\n",
    "                                   c= c+1\n",
    "                     \n",
    "                     \n",
    "\n",
    "                \n",
    "        return int(c)"
   ]
  },
  {
   "cell_type": "markdown",
   "metadata": {},
   "source": [
    "Se añadieron las funciones a la clase"
   ]
  },
  {
   "cell_type": "code",
   "execution_count": 22,
   "metadata": {},
   "outputs": [],
   "source": [
    "setattr(BlockWorld, 'sup', sup)\n",
    "setattr(BlockWorld, 'heuristica2',  piezas_con_pesos)\n",
    "setattr(BlockWorld, 'correctas', correctas)"
   ]
  },
  {
   "cell_type": "markdown",
   "metadata": {},
   "source": [
    "## Prueba  de las heurísticas"
   ]
  },
  {
   "cell_type": "markdown",
   "metadata": {},
   "source": [
    "Ahora vamos a volver a intentar resolverlo con n = 5"
   ]
  },
  {
   "cell_type": "code",
   "execution_count": 23,
   "metadata": {},
   "outputs": [
    {
     "data": {
      "text/plain": [
       "<Axes: >"
      ]
     },
     "execution_count": 23,
     "metadata": {},
     "output_type": "execute_result"
    },
    {
     "data": {
      "image/png": "[encoded data removed]",
      "text/plain": [
       "<Figure size 640x480 with 1 Axes>"
      ]
     },
     "metadata": {},
     "output_type": "display_data"
    },
    {
     "data": {
      "image/png": "[encoded data removed]",
      "text/plain": [
       "<Figure size 640x480 with 1 Axes>"
      ]
     },
     "metadata": {},
     "output_type": "display_data"
    },
    {
     "data": {
      "image/png": "[encoded data removed]",
      "text/plain": [
       "<Figure size 640x480 with 1 Axes>"
      ]
     },
     "metadata": {},
     "output_type": "display_data"
    }
   ],
   "source": [
    "#casos de prueba\n",
    "\n",
    "dim = 5\n",
    "\n",
    "s1 =BlockWorld(dim)\n",
    "s2 = BlockWorld(dim)\n",
    "s3 = BlockWorld(dim)\n",
    "s1.pintar_estado(s1.estado_inicial)\n",
    "s2.pintar_estado(s2.estado_inicial)\n",
    "s3.pintar_estado(s3.estado_inicial)"
   ]
  },
  {
   "cell_type": "markdown",
   "metadata": {},
   "source": [
    "Vamos a evaluarlo para los algortimos de búsqueda informada"
   ]
  },
  {
   "cell_type": "code",
   "execution_count": 27,
   "metadata": {
    "scrolled": false
   },
   "outputs": [],
   "source": [
    "estados = [s1.estado_inicial,s2.estado_inicial,s3.estado_inicial]\n",
    "\n",
    "# Definimos las heurísticas\n",
    "heuristicas = [piezas_y_distancia, piezas_con_pesos]\n",
    "\n",
    "nombres = ['piezas_y_distancia', 'piezas_con_pesos']\n",
    "\n",
    "# Creamos el test suite\n",
    "lista_tests, lista_nombres = test_suit_heuristicas(estados, heuristicas, nombres)\n",
    "lista_funs = [A_star]*len(lista_tests)\n",
    "lista_funs2 = [avara]*len(lista_tests)"
   ]
  },
  {
   "cell_type": "markdown",
   "metadata": {},
   "source": [
    "Para el algoritmo A* obtenemos"
   ]
  },
  {
   "cell_type": "code",
   "execution_count": 28,
   "metadata": {
    "scrolled": false
   },
   "outputs": [
    {
     "data": {
      "text/html": [
       "<div>\n",
       "<style scoped>\n",
       "    .dataframe tbody tr th:only-of-type {\n",
       "        vertical-align: middle;\n",
       "    }\n",
       "\n",
       "    .dataframe tbody tr th {\n",
       "        vertical-align: top;\n",
       "    }\n",
       "\n",
       "    .dataframe thead tr th {\n",
       "        text-align: left;\n",
       "    }\n",
       "\n",
       "    .dataframe thead tr:last-of-type th {\n",
       "        text-align: right;\n",
       "    }\n",
       "</style>\n",
       "<table border=\"1\" class=\"dataframe\">\n",
       "  <thead>\n",
       "    <tr>\n",
       "      <th></th>\n",
       "      <th colspan=\"2\" halign=\"left\">tiempo_CPU</th>\n",
       "    </tr>\n",
       "    <tr>\n",
       "      <th></th>\n",
       "      <th>mean</th>\n",
       "      <th>std</th>\n",
       "    </tr>\n",
       "    <tr>\n",
       "      <th>Función</th>\n",
       "      <th></th>\n",
       "      <th></th>\n",
       "    </tr>\n",
       "  </thead>\n",
       "  <tbody>\n",
       "    <tr>\n",
       "      <th>piezas_con_pesos</th>\n",
       "      <td>0.047375</td>\n",
       "      <td>0.016170</td>\n",
       "    </tr>\n",
       "    <tr>\n",
       "      <th>piezas_y_distancia</th>\n",
       "      <td>0.266233</td>\n",
       "      <td>0.132929</td>\n",
       "    </tr>\n",
       "  </tbody>\n",
       "</table>\n",
       "</div>"
      ],
      "text/plain": [
       "                   tiempo_CPU          \n",
       "                         mean       std\n",
       "Función                                \n",
       "piezas_con_pesos     0.047375  0.016170\n",
       "piezas_y_distancia   0.266233  0.132929"
      ]
     },
     "execution_count": 28,
     "metadata": {},
     "output_type": "execute_result"
    }
   ],
   "source": [
    "\n",
    "data3 = compara_funciones(lista_funs=lista_funs, \n",
    "                         lista_args=lista_tests, \n",
    "                         lista_nombres=lista_nombres, \n",
    "                         num_it=10)\n",
    "data3.groupby('Función').agg({'tiempo_CPU':['mean', 'std']})"
   ]
  },
  {
   "cell_type": "code",
   "execution_count": 29,
   "metadata": {},
   "outputs": [
    {
     "data": {
      "text/plain": [
       "<Axes: xlabel='Función', ylabel='tiempo_CPU'>"
      ]
     },
     "execution_count": 29,
     "metadata": {},
     "output_type": "execute_result"
    },
    {
     "data": {
      "image/png": "[encoded data removed]",
      "text/plain": [
       "<Figure size 900x300 with 1 Axes>"
      ]
     },
     "metadata": {},
     "output_type": "display_data"
    }
   ],
   "source": [
    "fig, ax = plt.subplots(1,1, figsize=(3*len(funs),3), tight_layout=True)\n",
    "sns.boxplot(data=data3, x='Función', y='tiempo_CPU')"
   ]
  },
  {
   "cell_type": "markdown",
   "metadata": {},
   "source": [
    "Para el algortimo ávara tenemos"
   ]
  },
  {
   "cell_type": "code",
   "execution_count": 30,
   "metadata": {
    "scrolled": false
   },
   "outputs": [
    {
     "data": {
      "text/html": [
       "<div>\n",
       "<style scoped>\n",
       "    .dataframe tbody tr th:only-of-type {\n",
       "        vertical-align: middle;\n",
       "    }\n",
       "\n",
       "    .dataframe tbody tr th {\n",
       "        vertical-align: top;\n",
       "    }\n",
       "\n",
       "    .dataframe thead tr th {\n",
       "        text-align: left;\n",
       "    }\n",
       "\n",
       "    .dataframe thead tr:last-of-type th {\n",
       "        text-align: right;\n",
       "    }\n",
       "</style>\n",
       "<table border=\"1\" class=\"dataframe\">\n",
       "  <thead>\n",
       "    <tr>\n",
       "      <th></th>\n",
       "      <th colspan=\"2\" halign=\"left\">tiempo_CPU</th>\n",
       "    </tr>\n",
       "    <tr>\n",
       "      <th></th>\n",
       "      <th>mean</th>\n",
       "      <th>std</th>\n",
       "    </tr>\n",
       "    <tr>\n",
       "      <th>Función</th>\n",
       "      <th></th>\n",
       "      <th></th>\n",
       "    </tr>\n",
       "  </thead>\n",
       "  <tbody>\n",
       "    <tr>\n",
       "      <th>piezas_con_pesos</th>\n",
       "      <td>0.042601</td>\n",
       "      <td>0.012917</td>\n",
       "    </tr>\n",
       "    <tr>\n",
       "      <th>piezas_y_distancia</th>\n",
       "      <td>0.179620</td>\n",
       "      <td>0.067488</td>\n",
       "    </tr>\n",
       "  </tbody>\n",
       "</table>\n",
       "</div>"
      ],
      "text/plain": [
       "                   tiempo_CPU          \n",
       "                         mean       std\n",
       "Función                                \n",
       "piezas_con_pesos     0.042601  0.012917\n",
       "piezas_y_distancia   0.179620  0.067488"
      ]
     },
     "execution_count": 30,
     "metadata": {},
     "output_type": "execute_result"
    }
   ],
   "source": [
    "data4 = compara_funciones(lista_funs=lista_funs2, \n",
    "                         lista_args=lista_tests, \n",
    "                         lista_nombres=lista_nombres, \n",
    "                         num_it=10)\n",
    "data4.groupby('Función').agg({'tiempo_CPU':['mean', 'std']})\n"
   ]
  },
  {
   "cell_type": "code",
   "execution_count": null,
   "metadata": {},
   "outputs": [],
   "source": [
    "fig, ax = plt.subplots(1,1, figsize=(3*len(funs),3), tight_layout=True)\n",
    "sns.boxplot(data=data4, x='Función', y='tiempo_CPU')"
   ]
  },
  {
   "cell_type": "markdown",
   "metadata": {},
   "source": [
    "Ahora para n>5 en las siguientes gráficas se puede evidenciar cómo la dimensionalidad va afectando los tiempos.\n",
    "\n",
    "Aquí se presentan promedios de los tiempos con diferentes estados iniciales, principalmente con la heurística 1 que es la que presentó más diferencias, puesto que como los estados siempre son aleatorios, se puede tener un caso  de dimensionalidad nueve donde el tiempo sea 0.01, pues el estado inicial está cerca al final, y también se puede tener un caso donde el tiempo sea 3.14"
   ]
  },
  {
   "cell_type": "code",
   "execution_count": null,
   "metadata": {},
   "outputs": [],
   "source": [
    "data =[[3,0.001563,0.05764],[4,0.022083,0.012943],[5,0.0130,0.056],[6,0.0245,0.031],[7,0.066,0.561],[8,0.3232,0.42],[9,0.5184,1.34],[10,0.773,1.945]]\n",
    "\n",
    "df = pd.DataFrame(data, columns=['Dimensionalidad','Heurística 2','Heurística 1'])\n",
    "fig = px.line(df, x=\"Dimensionalidad\", y=\"Heurística 1\", title='Algoritmo A*')\n",
    "fig.add_scatter(x=df['Dimensionalidad'], y=df['Heurística 2'])\n",
    "fig.show()\n",
    "print(\"la heurística 1 es la línea de color azul, la heurística dos la línea de color naranja\")\n",
    "\n",
    "print(df)"
   ]
  },
  {
   "cell_type": "code",
   "execution_count": null,
   "metadata": {},
   "outputs": [],
   "source": [
    "data =[[3,0.001562,0.003877],[4,0.002604,0.011060],[5,0.010,0.048],[6,0.024,0.024],[7,0.060,0.403],[8,0.28,0.38],[9,0.564,0.879],[10,0.768,1.87]]\n",
    "\n",
    "df = pd.DataFrame(data, columns=['Dimensionalidad','Heurística 2','Heurística 1'])\n",
    "fig = px.line(df, x=\"Dimensionalidad\", y=\"Heurística 1\", title='Algoritmo ávara')\n",
    "fig.add_scatter(x=df['Dimensionalidad'], y=df['Heurística 2'])\n",
    "fig.show()\n",
    "print(\"la heurística 1 es la línea de color azul, la heurística dos la línea de color naranja\")\n",
    "print(df)"
   ]
  },
  {
   "cell_type": "markdown",
   "metadata": {},
   "source": [
    "Ahora se presenta una tabla con el tiempo de CPU que le toma a cada algoritmo resolver el problema en  las dimensiones"
   ]
  },
  {
   "cell_type": "code",
   "execution_count": 32,
   "metadata": {},
   "outputs": [
    {
     "name": "stdout",
     "output_type": "stream",
     "text": [
      "           pesos_avara  distancia_avara  pesos_star  distancia_star  \\\n",
      "dimension                                                             \n",
      "3             0.001562         0.003877    0.001563        0.057640   \n",
      "4             0.002604         0.011060    0.022083        0.012943   \n",
      "5             0.010000         0.048000    0.013000        0.056000   \n",
      "6             0.024000         0.024000    0.024500        0.031000   \n",
      "7             0.060000         0.403000    0.066000        0.561000   \n",
      "8             0.280000         0.380000    0.323200        0.420000   \n",
      "9             0.564000         0.879000    0.518400        1.340000   \n",
      "10            0.768000         1.870000    0.773000        1.945000   \n",
      "\n",
      "           Backtracking   Anchura  Profundidad  \n",
      "dimension                                       \n",
      "3              0.002388  0.002314     0.007316  \n",
      "4              1.054067  5.989798     0.960047  \n",
      "5                   NaN       NaN          NaN  \n",
      "6                   NaN       NaN          NaN  \n",
      "7                   NaN       NaN          NaN  \n",
      "8                   NaN       NaN          NaN  \n",
      "9                   NaN       NaN          NaN  \n",
      "10                  NaN       NaN          NaN  \n"
     ]
    }
   ],
   "source": [
    "avara =[[3,0.001562,0.003877],[4,0.002604,0.011060],[5,0.010,0.048],\n",
    "        [6,0.024,0.024],[7,0.060,0.403],[8,0.28,0.38],\n",
    "        [9,0.564,0.879],[10,0.768,1.87]]\n",
    "dfA = pd.DataFrame(avara, columns=['dimension', 'pesos', 'distancia'])\n",
    "dfA = dfA.set_index('dimension')\n",
    "\n",
    "Star =[[3,0.001563,0.05764],[4,0.022083,0.012943],[5,0.0130,0.056],\n",
    "       [6,0.0245,0.031],[7,0.066,0.561],[8,0.3232,0.42],\n",
    "       [9,0.5184,1.34],[10,0.773,1.945]]\n",
    "dfS = pd.DataFrame(Star, columns=['dimension', 'pesos', 'distancia'])\n",
    "dfS = dfS.set_index('dimension')\n",
    "\n",
    "\n",
    "df_total = pd.merge(dfA, dfS, on='dimension', suffixes=('_avara', '_star'))\n",
    "\n",
    "Back= [[3, 0.002388, np.nan], [4, 1.054067, np.nan], [5, np.nan, np.nan], [6, np.nan, np.nan], [7, np.nan, np.nan], [8, np.nan, np.nan], [9, np.nan, np.nan], [10, np.nan, np.nan]]\n",
    "dfB = pd.DataFrame(Back, columns=['dimension', 'CPU', 'distancia'])\n",
    "dfB = dfB.set_index('dimension')\n",
    "\n",
    "Anchu= [[3, 0.002314, np.nan], [4, 5.989798, np.nan], [5, np.nan, np.nan], [6, np.nan, np.nan], [7, np.nan, np.nan], [8, np.nan, np.nan], [9, np.nan, np.nan], [10, np.nan, np.nan]]\n",
    "dfAnchu = pd.DataFrame(Anchu, columns=['dimension', 'CPU', 'distancia'])\n",
    "dfAnchu = dfAnchu.set_index('dimension')\n",
    "\n",
    "Profu= [[3, 0.007316, np.nan], [4, 0.960047, np.nan], [5, np.nan, np.nan], [6, np.nan, np.nan], [7, np.nan, np.nan], [8, np.nan, np.nan], [9, np.nan, np.nan], [10, np.nan, np.nan]]\n",
    "dfProfu = pd.DataFrame(Profu, columns=['dimension', 'CPU', 'distancia'])\n",
    "dfProfu = dfProfu.set_index('dimension')\n",
    "\n",
    "df_total['Backtracking'] = dfB['CPU']\n",
    "df_total['Anchura'] =dfAnchu['CPU']\n",
    "df_total['Profundidad'] =dfProfu['CPU']\n",
    "print(df_total)"
   ]
  },
  {
   "cell_type": "markdown",
   "metadata": {},
   "source": [
    "Note que las heurísticas ayudaron a disminuir la maldición de la dimensionalidad, puesto que se puedo obtener una solución hasta problemas de dimensión 10, mientras que sin las heurísticas no se pudo ni alcanzar la dimensión 5 en un tiempo razonable."
   ]
  },
  {
   "cell_type": "markdown",
   "metadata": {},
   "source": [
    "Pese a que las diferencias fueron muy leves hasta la dimensión 6 entre ambas heurísticas, se considera que la heurística 2 es mejor puesto que a medida que aumento la dimensionalidad tuvó un comportamiento similar a uno lineal, mientras que la heuristíca 1 tuvo más variación en esas dimensiones y tomaba más tiempo en procesar, es decir, le heurística 1 depende más del estado inicial y final para determinar el tiempo en CPU, mientras que la heurística 2 mantenía una proporción constante."
   ]
  }
 ],
 "metadata": {
  "kernelspec": {
   "display_name": "Python 3 (ipykernel)",
   "language": "python",
   "name": "python3"
  },
  "language_info": {
   "codemirror_mode": {
    "name": "ipython",
    "version": 3
   },
   "file_extension": ".py",
   "mimetype": "text/x-python",
   "name": "python",
   "nbconvert_exporter": "python",
   "pygments_lexer": "ipython3",
   "version": "3.10.9"
  }
 },
 "nbformat": 4,
 "nbformat_minor": 4
}
